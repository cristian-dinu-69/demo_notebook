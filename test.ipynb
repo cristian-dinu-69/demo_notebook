{
  "cells": [
    {
      "cell_type": "markdown",
      "metadata": {
        "id": "view-in-github",
        "colab_type": "text"
      },
      "source": [
        "<a href=\"https://colab.research.google.com/github/cristian-dinu-69/demo_notebook/blob/main/test.ipynb\" target=\"_parent\"><img src=\"https://colab.research.google.com/assets/colab-badge.svg\" alt=\"Open In Colab\"/></a>"
      ]
    },
    {
      "cell_type": "code",
      "execution_count": 1,
      "id": "95f49c4c",
      "metadata": {
        "id": "95f49c4c"
      },
      "outputs": [],
      "source": [
        "#! pip install numpy pandas seaborn sklearn"
      ]
    },
    {
      "cell_type": "code",
      "execution_count": 2,
      "id": "9dfdfbfc",
      "metadata": {
        "id": "9dfdfbfc"
      },
      "outputs": [],
      "source": [
        "from sklearn.preprocessing import MinMaxScaler"
      ]
    },
    {
      "cell_type": "code",
      "execution_count": 3,
      "id": "aabd8da8",
      "metadata": {
        "id": "aabd8da8"
      },
      "outputs": [],
      "source": [
        "import numpy as np"
      ]
    },
    {
      "cell_type": "code",
      "execution_count": 4,
      "id": "bf808de7",
      "metadata": {
        "id": "bf808de7"
      },
      "outputs": [],
      "source": [
        "a = np.array([[1,2,3,4,5,6,7],[8,9,10,11,12,13,14]])"
      ]
    },
    {
      "cell_type": "code",
      "execution_count": 5,
      "id": "6f1cd63a",
      "metadata": {
        "id": "6f1cd63a"
      },
      "outputs": [],
      "source": [
        "scaler = MinMaxScaler()"
      ]
    },
    {
      "cell_type": "code",
      "execution_count": 6,
      "id": "69d5f823",
      "metadata": {
        "id": "69d5f823",
        "outputId": "cc2daaf3-4650-473e-98e6-372fb93384db",
        "colab": {
          "base_uri": "https://localhost:8080/"
        }
      },
      "outputs": [
        {
          "output_type": "execute_result",
          "data": {
            "text/plain": [
              "MinMaxScaler()"
            ]
          },
          "metadata": {},
          "execution_count": 6
        }
      ],
      "source": [
        "scaler.fit(a)"
      ]
    },
    {
      "cell_type": "code",
      "execution_count": 7,
      "id": "ec032cd2",
      "metadata": {
        "id": "ec032cd2",
        "outputId": "b7684224-6dbc-4fd5-c159-337b62ab81c0",
        "colab": {
          "base_uri": "https://localhost:8080/"
        }
      },
      "outputs": [
        {
          "output_type": "execute_result",
          "data": {
            "text/plain": [
              "array([-0.14285714, -0.28571429, -0.42857143, -0.57142857, -0.71428571,\n",
              "       -0.85714286, -1.        ])"
            ]
          },
          "metadata": {},
          "execution_count": 7
        }
      ],
      "source": [
        "scaler.min_"
      ]
    },
    {
      "cell_type": "code",
      "execution_count": 8,
      "id": "021741e1",
      "metadata": {
        "id": "021741e1",
        "outputId": "c163eba2-91a7-4219-e488-26045d6d3ddb",
        "colab": {
          "base_uri": "https://localhost:8080/"
        }
      },
      "outputs": [
        {
          "output_type": "execute_result",
          "data": {
            "text/plain": [
              "array([0.14285714, 0.14285714, 0.14285714, 0.14285714, 0.14285714,\n",
              "       0.14285714, 0.14285714])"
            ]
          },
          "metadata": {},
          "execution_count": 8
        }
      ],
      "source": [
        "scaler.scale_"
      ]
    },
    {
      "cell_type": "code",
      "execution_count": 10,
      "id": "4aff8a2c",
      "metadata": {
        "id": "4aff8a2c"
      },
      "outputs": [],
      "source": [
        "# !pip install gitpython"
      ]
    },
    {
      "cell_type": "code",
      "execution_count": null,
      "id": "0924fe1f",
      "metadata": {
        "id": "0924fe1f"
      },
      "outputs": [],
      "source": [
        ""
      ]
    }
  ],
  "metadata": {
    "kernelspec": {
      "display_name": "Python 3 (ipykernel)",
      "language": "python",
      "name": "python3"
    },
    "language_info": {
      "codemirror_mode": {
        "name": "ipython",
        "version": 3
      },
      "file_extension": ".py",
      "mimetype": "text/x-python",
      "name": "python",
      "nbconvert_exporter": "python",
      "pygments_lexer": "ipython3",
      "version": "3.8.12"
    },
    "colab": {
      "name": "test.ipynb",
      "provenance": [],
      "include_colab_link": true
    }
  },
  "nbformat": 4,
  "nbformat_minor": 5
}